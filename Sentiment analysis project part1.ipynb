{
 "cells": [
  {
   "cell_type": "code",
   "execution_count": null,
   "id": "0bbd435e",
   "metadata": {},
   "outputs": [],
   "source": [
    "import plotly.express as px \n",
    "import plotly.graph_objs as pgo\n",
    "import matplotlib.pyplot as plt\n",
    "import pandas as pd\n",
    "import seaborn as sns"
   ]
  },
  {
   "cell_type": "code",
   "execution_count": null,
   "id": "637b4153",
   "metadata": {},
   "outputs": [],
   "source": [
    "df = pd.read_csv(\"Reviews.csv\",encoding='utf8')\n",
    "df.head()"
   ]
  },
  {
   "cell_type": "code",
   "execution_count": null,
   "id": "b5d72220",
   "metadata": {},
   "outputs": [],
   "source": [
    "#data types description\n",
    "df.info()"
   ]
  },
  {
   "cell_type": "code",
   "execution_count": null,
   "id": "b4b59186",
   "metadata": {},
   "outputs": [],
   "source": [
    "#size of the dataframe\n",
    "df.shape"
   ]
  },
  {
   "cell_type": "code",
   "execution_count": null,
   "id": "3bde77fb",
   "metadata": {},
   "outputs": [],
   "source": [
    "import sweetviz as sv\n",
    "my_report = sv.analyze(df)\n",
    "my_report.show_html() # Default arguments will generate to \"SWEETVIZ_REPORT.html\""
   ]
  },
  {
   "cell_type": "markdown",
   "id": "a9f52eaa",
   "metadata": {},
   "source": [
    "### Univariate analysis"
   ]
  },
  {
   "cell_type": "code",
   "execution_count": null,
   "id": "e565d4de",
   "metadata": {},
   "outputs": [],
   "source": [
    "#ProductID\n",
    "print(\"Distinct values:\",df.ProductId.nunique())"
   ]
  },
  {
   "cell_type": "code",
   "execution_count": null,
   "id": "0eb7c0fa",
   "metadata": {},
   "outputs": [],
   "source": [
    "#USerID\n",
    "print(\"Distinct values:\",df.UserId.nunique())"
   ]
  },
  {
   "cell_type": "code",
   "execution_count": null,
   "id": "c68d5412",
   "metadata": {
    "scrolled": true
   },
   "outputs": [],
   "source": [
    "#Profilename\n",
    "print(\"Distinct values:\",df.ProfileName.nunique())"
   ]
  },
  {
   "cell_type": "code",
   "execution_count": null,
   "id": "ba0d4ed0",
   "metadata": {},
   "outputs": [],
   "source": [
    "#HelpfulnessNumerator\n",
    "print(\"Distinct values:\",df.HelpfulnessNumerator.nunique())\n",
    "print(\"0 awarded by\",df[df['HelpfulnessNumerator']==0]['UserId'].count()/568454)"
   ]
  },
  {
   "cell_type": "code",
   "execution_count": null,
   "id": "9df6e2c2",
   "metadata": {
    "scrolled": false
   },
   "outputs": [],
   "source": [
    "sns.boxplot(data=df,x='HelpfulnessNumerator')"
   ]
  },
  {
   "cell_type": "code",
   "execution_count": null,
   "id": "fa117ac7",
   "metadata": {},
   "outputs": [],
   "source": [
    "df.HelpfulnessNumerator.value_counts(normalize=True).head(10)"
   ]
  },
  {
   "cell_type": "code",
   "execution_count": null,
   "id": "92ba63f8",
   "metadata": {
    "scrolled": true
   },
   "outputs": [],
   "source": [
    "#HelpfulnessDenominator\n",
    "print(\"Distinct values:\",df.HelpfulnessDenominator.nunique())\n",
    "print(\"0 awarded by\",df[df['HelpfulnessDenominator']==0]['UserId'].count()/568454)"
   ]
  },
  {
   "cell_type": "code",
   "execution_count": null,
   "id": "4ebaf155",
   "metadata": {
    "scrolled": true
   },
   "outputs": [],
   "source": [
    "sns.boxplot(data=df,x='HelpfulnessDenominator')"
   ]
  },
  {
   "cell_type": "code",
   "execution_count": null,
   "id": "c54a4883",
   "metadata": {
    "scrolled": true
   },
   "outputs": [],
   "source": [
    "df.HelpfulnessDenominator.value_counts(normalize=True).head(10)"
   ]
  },
  {
   "cell_type": "code",
   "execution_count": null,
   "id": "620c128f",
   "metadata": {},
   "outputs": [],
   "source": [
    "Score_counts=df.Score.value_counts()\n",
    "Score_counts"
   ]
  },
  {
   "cell_type": "code",
   "execution_count": null,
   "id": "fd82ae48",
   "metadata": {
    "scrolled": true
   },
   "outputs": [],
   "source": [
    "import seaborn as sns\n",
    "sns.barplot(x=Score_counts.index, y=Score_counts.values)\n",
    "plt.title(\"Frequency of Score\")\n",
    "plt.show()"
   ]
  },
  {
   "cell_type": "code",
   "execution_count": null,
   "id": "c4485018",
   "metadata": {},
   "outputs": [],
   "source": [
    "#convert the timestamp into datetime for better analysis\n",
    "import datetime\n",
    "df['DateTime'] = pd.to_datetime(df['Time'], unit='s')\n",
    "#Splitting Date Column\n",
    "df['Year'] = df['DateTime'].dt.year\n",
    "df['Month'] = df['DateTime'].dt.month\n",
    "df['Week'] = df['DateTime'].dt.week"
   ]
  },
  {
   "cell_type": "code",
   "execution_count": null,
   "id": "a8069d68",
   "metadata": {},
   "outputs": [],
   "source": [
    "sns.set(style='whitegrid', palette=\"deep\", font_scale=1.1, rc={\"figure.figsize\": [10, 5]})\n",
    "sns.countplot(data=df,x='Year')"
   ]
  },
  {
   "cell_type": "code",
   "execution_count": null,
   "id": "12f4e914",
   "metadata": {
    "scrolled": false
   },
   "outputs": [],
   "source": [
    "sns.boxplot(data=df,x='Year')"
   ]
  },
  {
   "cell_type": "code",
   "execution_count": null,
   "id": "d5fe31c0",
   "metadata": {},
   "outputs": [],
   "source": [
    "#Summary\n",
    "print(\"Distinct values:\",df.Summary.nunique())\n",
    "df.Summary.value_counts().head()"
   ]
  },
  {
   "cell_type": "code",
   "execution_count": null,
   "id": "ad8fb2cd",
   "metadata": {
    "scrolled": true
   },
   "outputs": [],
   "source": [
    "#Text\n",
    "print(\"Distinct values:\",df.Text.nunique())"
   ]
  },
  {
   "cell_type": "markdown",
   "id": "f43803fd",
   "metadata": {},
   "source": [
    "### Data preprocessing"
   ]
  },
  {
   "cell_type": "code",
   "execution_count": null,
   "id": "36840c23",
   "metadata": {
    "scrolled": false
   },
   "outputs": [],
   "source": [
    "#Calculate null values \n",
    "df.isnull().sum()"
   ]
  },
  {
   "cell_type": "code",
   "execution_count": null,
   "id": "fa864096",
   "metadata": {},
   "outputs": [],
   "source": [
    "df.duplicated().sum()"
   ]
  },
  {
   "cell_type": "code",
   "execution_count": null,
   "id": "494c8a94",
   "metadata": {},
   "outputs": [],
   "source": [
    "#create helfullness column\n",
    "df['Helpfullness']=df['HelpfulnessNumerator']/df['HelpfulnessDenominator']"
   ]
  },
  {
   "cell_type": "code",
   "execution_count": null,
   "id": "b4b0e2e5",
   "metadata": {
    "scrolled": true
   },
   "outputs": [],
   "source": [
    "df.Helpfullness.value_counts(dropna=False).head(10)"
   ]
  },
  {
   "cell_type": "markdown",
   "id": "5fd30be4",
   "metadata": {},
   "source": [
    "#### data transformation for time variable is done in univariate analysis step"
   ]
  },
  {
   "cell_type": "code",
   "execution_count": null,
   "id": "a7a7e97f",
   "metadata": {},
   "outputs": [],
   "source": [
    "# creating dataframe and storing csv file\n",
    "from pathlib import Path  \n",
    "filepath = Path('df_clean.csv')\n",
    "filepath.parent.mkdir(parents=True, exist_ok=True)\n",
    "df.to_csv(filepath)"
   ]
  },
  {
   "cell_type": "code",
   "execution_count": null,
   "id": "d19f0b59",
   "metadata": {},
   "outputs": [],
   "source": []
  }
 ],
 "metadata": {
  "kernelspec": {
   "display_name": "Python 3 (ipykernel)",
   "language": "python",
   "name": "python3"
  },
  "language_info": {
   "codemirror_mode": {
    "name": "ipython",
    "version": 3
   },
   "file_extension": ".py",
   "mimetype": "text/x-python",
   "name": "python",
   "nbconvert_exporter": "python",
   "pygments_lexer": "ipython3",
   "version": "3.9.12"
  }
 },
 "nbformat": 4,
 "nbformat_minor": 5
}
